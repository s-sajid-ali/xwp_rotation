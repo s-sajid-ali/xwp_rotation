{
 "cells": [
  {
   "cell_type": "code",
   "execution_count": 1,
   "metadata": {},
   "outputs": [],
   "source": [
    "import numpy as np\n",
    "import matplotlib.pyplot as plt\n",
    "\n",
    "from xwp_rotation.rotate import pyvips_rotate\n",
    "from xwp_rotation.rotate import rot_matrix"
   ]
  },
  {
   "cell_type": "code",
   "execution_count": null,
   "metadata": {},
   "outputs": [],
   "source": [
    "size = 128\n",
    "angle = 20\n",
    "rot_matrix_pos = rot_matrix(size,+angle)\n",
    "rot_matrix_neg = rot_matrix(size,-angle)"
   ]
  },
  {
   "cell_type": "code",
   "execution_count": null,
   "metadata": {},
   "outputs": [],
   "source": [
    "print(\"%nnz for +ve rot : \", 100 * (np.count_nonzero(rot_matrix_pos)/(size**4)))\n",
    "print(\"%nnz for -ve rot : \", 100 * (np.count_nonzero(rot_matrix_neg)/(size**4)))"
   ]
  },
  {
   "cell_type": "code",
   "execution_count": null,
   "metadata": {},
   "outputs": [],
   "source": [
    "a = np.zeros((size,size))\n",
    "a[35,55] = 1"
   ]
  },
  {
   "cell_type": "code",
   "execution_count": null,
   "metadata": {},
   "outputs": [],
   "source": [
    "B = (rot_matrix_pos@a.ravel()).reshape((size,size))\n",
    "diff_pos = np.abs(B - pyvips_rotate(a,+angle))\n",
    "\n",
    "rx,ry = 35,45\n",
    "cx,cy = 40,50\n",
    "\n",
    "plt.rcParams[\"figure.figsize\"] = (20,5)\n",
    "f,(ax1,ax2,ax3) = plt.subplots(1,3)\n",
    "im1 = ax1.imshow(B[rx:ry,cx:cy], alpha = 0.5, origin='lower', cmap='coolwarm')\n",
    "im2 = ax2.imshow((pyvips_rotate(a,+angle))[rx:ry,cx:cy], alpha = 0.5, origin='lower', cmap='coolwarm')\n",
    "im3 = ax3.imshow(diff_pos[rx:ry,cx:cy], alpha = 0.5, origin='lower', cmap='coolwarm')\n",
    "f.colorbar(im1,ax=ax1)\n",
    "f.colorbar(im2,ax=ax2)\n",
    "f.colorbar(im3,ax=ax3)\n",
    "\n",
    "print(np.sum((diff_pos[rx:ry,cx:cy].ravel()**2)/(10*10)))"
   ]
  },
  {
   "cell_type": "code",
   "execution_count": null,
   "metadata": {},
   "outputs": [],
   "source": [
    "C = (rot_matrix_neg@(a.ravel())).reshape((size,size))\n",
    "diff_neg = np.abs(C - pyvips_rotate(a,-angle))\n",
    "\n",
    "rx,ry = 30,40\n",
    "cx,cy = 60,70\n",
    "\n",
    "plt.rcParams[\"figure.figsize\"] = (20,5)\n",
    "f,(ax1,ax2,ax3) = plt.subplots(1,3)\n",
    "im1 = ax1.imshow(C[rx:ry,cx:cy], alpha = 0.5, origin='lower', cmap='coolwarm')\n",
    "im2 = ax2.imshow((pyvips_rotate(a,-angle))[rx:ry,cx:cy], alpha = 0.5, origin='lower', cmap='coolwarm')\n",
    "im3 = ax3.imshow(diff_neg[rx:ry,cx:cy], alpha = 0.5, origin='lower', cmap='coolwarm')\n",
    "f.colorbar(im1,ax=ax1)\n",
    "f.colorbar(im2,ax=ax2)\n",
    "f.colorbar(im3,ax=ax3)\n",
    "\n",
    "print(np.sum((diff_neg[rx:ry,cx:cy].ravel()**2)/(10*10)))"
   ]
  },
  {
   "cell_type": "code",
   "execution_count": null,
   "metadata": {},
   "outputs": [],
   "source": [
    "plt.imshow(rot_matrix_neg == rot_matrix_pos.transpose())"
   ]
  },
  {
   "cell_type": "code",
   "execution_count": null,
   "metadata": {},
   "outputs": [],
   "source": []
  }
 ],
 "metadata": {
  "kernelspec": {
   "display_name": "Python 3",
   "language": "python",
   "name": "python3"
  },
  "language_info": {
   "codemirror_mode": {
    "name": "ipython",
    "version": 3
   },
   "file_extension": ".py",
   "mimetype": "text/x-python",
   "name": "python",
   "nbconvert_exporter": "python",
   "pygments_lexer": "ipython3",
   "version": "3.7.7"
  }
 },
 "nbformat": 4,
 "nbformat_minor": 4
}
