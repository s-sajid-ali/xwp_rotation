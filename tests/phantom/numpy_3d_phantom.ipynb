{
 "cells": [
  {
   "cell_type": "code",
   "execution_count": 1,
   "metadata": {},
   "outputs": [],
   "source": [
    "import numpy as np\n",
    "import matplotlib.pyplot as plt\n",
    "import h5py \n",
    "\n",
    "import petsc4py\n",
    "petsc4py.init()\n",
    "from petsc4py import PETSc"
   ]
  },
  {
   "cell_type": "code",
   "execution_count": 2,
   "metadata": {},
   "outputs": [],
   "source": [
    "size = 64"
   ]
  },
  {
   "cell_type": "code",
   "execution_count": 3,
   "metadata": {},
   "outputs": [],
   "source": [
    "grid_beta  = np.load(\"grid_beta.npy\")\n",
    "grid_delta = np.load(\"grid_delta.npy\")\n",
    "\n",
    "_beta  = np.zeros((4096,64),dtype=np.float64)\n",
    "_delta = np.zeros((4096,64),dtype=np.float64)"
   ]
  },
  {
   "cell_type": "code",
   "execution_count": 4,
   "metadata": {},
   "outputs": [],
   "source": [
    "for i in range(size):\n",
    "    _beta[64*i:64*(i+1),:]  = grid_beta[:,:,i]\n",
    "    _delta[64*i:64*(i+1),:] = grid_delta[:,:,i]"
   ]
  },
  {
   "cell_type": "code",
   "execution_count": 5,
   "metadata": {},
   "outputs": [
    {
     "data": {
      "text/plain": [
       "<petsc4py.PETSc.Mat at 0x152a091dd770>"
      ]
     },
     "execution_count": 5,
     "metadata": {},
     "output_type": "execute_result"
    }
   ],
   "source": [
    "beta = PETSc.Mat().create(PETSc.COMM_WORLD)\n",
    "beta.setSizes([size**2,size])\n",
    "beta.setType('dense')\n",
    "beta.setFromOptions()\n",
    "beta.setUp()"
   ]
  },
  {
   "cell_type": "code",
   "execution_count": 6,
   "metadata": {},
   "outputs": [],
   "source": [
    "Istart, Iend = beta.getOwnershipRange()\n",
    "for I in np.arange(Istart,Iend):\n",
    "    for J in range(size):\n",
    "        beta[I,J] = _beta[I,J]\n",
    "beta.assemblyBegin()\n",
    "beta.assemblyEnd()"
   ]
  },
  {
   "cell_type": "code",
   "execution_count": 7,
   "metadata": {},
   "outputs": [],
   "source": [
    "view_beta = PETSc.Viewer().createBinary('beta.dat', 'w')\n",
    "view_beta(beta)"
   ]
  },
  {
   "cell_type": "code",
   "execution_count": 8,
   "metadata": {},
   "outputs": [
    {
     "data": {
      "text/plain": [
       "<petsc4py.PETSc.Mat at 0x152a091702f0>"
      ]
     },
     "execution_count": 8,
     "metadata": {},
     "output_type": "execute_result"
    }
   ],
   "source": [
    "delta = PETSc.Mat().create(PETSc.COMM_WORLD)\n",
    "delta.setSizes([size**2,size])\n",
    "delta.setType('dense')\n",
    "delta.setFromOptions()\n",
    "delta.setUp()"
   ]
  },
  {
   "cell_type": "code",
   "execution_count": 9,
   "metadata": {},
   "outputs": [],
   "source": [
    "Istart, Iend = delta.getOwnershipRange()\n",
    "for I in np.arange(Istart,Iend):\n",
    "    for J in range(size):\n",
    "        delta[I,J] = _delta[I,J]\n",
    "delta.assemblyBegin()\n",
    "delta.assemblyEnd()"
   ]
  },
  {
   "cell_type": "code",
   "execution_count": 10,
   "metadata": {},
   "outputs": [],
   "source": [
    "view_delta = PETSc.Viewer().createBinary('delta.dat', 'w')\n",
    "view_delta(delta)"
   ]
  },
  {
   "cell_type": "code",
   "execution_count": 11,
   "metadata": {},
   "outputs": [
    {
     "data": {
      "text/plain": [
       "<petsc4py.PETSc.Mat at 0x152a091702f0>"
      ]
     },
     "execution_count": 11,
     "metadata": {},
     "output_type": "execute_result"
    }
   ],
   "source": [
    "beta.destroy()\n",
    "delta.destroy()"
   ]
  },
  {
   "cell_type": "code",
   "execution_count": null,
   "metadata": {},
   "outputs": [],
   "source": []
  }
 ],
 "metadata": {
  "kernelspec": {
   "display_name": "Python 3",
   "language": "python",
   "name": "python3"
  },
  "language_info": {
   "codemirror_mode": {
    "name": "ipython",
    "version": 3
   },
   "file_extension": ".py",
   "mimetype": "text/x-python",
   "name": "python",
   "nbconvert_exporter": "python",
   "pygments_lexer": "ipython3",
   "version": "3.7.4"
  }
 },
 "nbformat": 4,
 "nbformat_minor": 4
}
