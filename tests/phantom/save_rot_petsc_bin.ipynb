{
 "cells": [
  {
   "cell_type": "code",
   "execution_count": 1,
   "metadata": {},
   "outputs": [],
   "source": [
    "import numpy as np\n",
    "import scipy as sp\n",
    "import matplotlib.pyplot as plt\n",
    "\n",
    "from xwp_rotation.rotate import pyvips_rotate, rot_matrix\n",
    "from xwp_rotation.utils import get_valid_locs\n",
    "\n",
    "import petsc4py\n",
    "petsc4py.init()\n",
    "from petsc4py import PETSc\n",
    "\n",
    "np.set_printoptions(precision=2)"
   ]
  },
  {
   "cell_type": "code",
   "execution_count": 2,
   "metadata": {},
   "outputs": [
    {
     "name": "stdout",
     "output_type": "stream",
     "text": [
      "0.002442002296447754\n"
     ]
    }
   ],
   "source": [
    "size = 64\n",
    "angle = 30\n",
    "rot_mat = rot_matrix(size,angle)\n",
    "idx,idy = np.where(rot_mat!=0)\n",
    "print(np.count_nonzero(rot_mat)/(size**4))"
   ]
  },
  {
   "cell_type": "code",
   "execution_count": 3,
   "metadata": {},
   "outputs": [
    {
     "data": {
      "text/plain": [
       "<petsc4py.PETSc.Mat at 0x14739860b3b0>"
      ]
     },
     "execution_count": 3,
     "metadata": {},
     "output_type": "execute_result"
    }
   ],
   "source": [
    "A = PETSc.Mat().create(PETSc.COMM_WORLD)\n",
    "A.setSizes([size**2,size**2])\n",
    "A.setType('seqaij')\n",
    "A.setFromOptions()\n",
    "A.setUp()"
   ]
  },
  {
   "cell_type": "code",
   "execution_count": 4,
   "metadata": {},
   "outputs": [],
   "source": [
    "Istart, Iend = A.getOwnershipRange()\n",
    "for I in range(len(idx)):\n",
    "    A[idx[I],idy[I]] = rot_mat[idx[I],idy[I]]\n",
    "A.assemblyBegin()\n",
    "A.assemblyEnd()"
   ]
  },
  {
   "cell_type": "code",
   "execution_count": 5,
   "metadata": {},
   "outputs": [],
   "source": [
    "viewer = PETSc.Viewer().createBinary('rot.dat', 'w')\n",
    "viewer(A)"
   ]
  },
  {
   "cell_type": "code",
   "execution_count": 6,
   "metadata": {},
   "outputs": [
    {
     "data": {
      "text/plain": [
       "<petsc4py.PETSc.Mat at 0x14739860b3b0>"
      ]
     },
     "execution_count": 6,
     "metadata": {},
     "output_type": "execute_result"
    }
   ],
   "source": [
    "A.destroy()"
   ]
  },
  {
   "cell_type": "code",
   "execution_count": null,
   "metadata": {},
   "outputs": [],
   "source": []
  }
 ],
 "metadata": {
  "kernelspec": {
   "display_name": "Python 3",
   "language": "python",
   "name": "python3"
  },
  "language_info": {
   "codemirror_mode": {
    "name": "ipython",
    "version": 3
   },
   "file_extension": ".py",
   "mimetype": "text/x-python",
   "name": "python",
   "nbconvert_exporter": "python",
   "pygments_lexer": "ipython3",
   "version": "3.7.4"
  }
 },
 "nbformat": 4,
 "nbformat_minor": 4
}
